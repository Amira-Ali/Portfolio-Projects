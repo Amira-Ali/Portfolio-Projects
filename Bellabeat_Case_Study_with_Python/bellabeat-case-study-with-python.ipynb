{
 "cells": [
  {
   "cell_type": "markdown",
   "id": "51b84663",
   "metadata": {
    "papermill": {
     "duration": 0.010801,
     "end_time": "2023-08-02T21:25:41.603293",
     "exception": false,
     "start_time": "2023-08-02T21:25:41.592492",
     "status": "completed"
    },
    "tags": []
   },
   "source": [
    "#### **Business task:**\n",
    "- Bellabeat is a wellness company founded by Urška Sršen and Sandro Mur (stakeholder) in 2014.\n",
    "- key stakeholders: Urska (co-founder + Chief Creative Officer) + Sando (Co-Founder & Mathematician ) + Bellabeat marketing analytics team.\n",
    "- Usrka has asked us to do the following:\n",
    "    * Analyze non-Bellabeat smart device data to gain insight into how consumers are using their smart devices.\n",
    "    * Apply these insights to one of  Bellabeat’s products, to help guide the Bellabeat marketing strategy (stakeholder) to reveal more opportunities for growth.\n",
    "    \n",
    "#### **Dataset and Tools:**\n",
    "- Data is provided by https://www.kaggle.com/arashnic in multiple excel files and it’s hosted on Kaggle platform.\n",
    "- Data is mostly in long format but some is wide format.\n",
    "- Python and Microsoft Excel are used here as a data analysis tools"
   ]
  },
  {
   "cell_type": "code",
   "execution_count": 1,
   "id": "7b246069",
   "metadata": {
    "execution": {
     "iopub.execute_input": "2023-08-02T21:25:41.627750Z",
     "iopub.status.busy": "2023-08-02T21:25:41.627232Z",
     "iopub.status.idle": "2023-08-02T21:25:41.639366Z",
     "shell.execute_reply": "2023-08-02T21:25:41.638549Z"
    },
    "papermill": {
     "duration": 0.028115,
     "end_time": "2023-08-02T21:25:41.641727",
     "exception": false,
     "start_time": "2023-08-02T21:25:41.613612",
     "status": "completed"
    },
    "tags": []
   },
   "outputs": [],
   "source": [
    "import os\n",
    "import pandas as pd\n",
    "import numpy as np\n",
    "import matplotlib.pyplot as plt\n",
    "import warnings\n",
    "warnings.filterwarnings('ignore')"
   ]
  },
  {
   "cell_type": "code",
   "execution_count": 2,
   "id": "d52fb9d2",
   "metadata": {
    "execution": {
     "iopub.execute_input": "2023-08-02T21:25:41.664273Z",
     "iopub.status.busy": "2023-08-02T21:25:41.663343Z",
     "iopub.status.idle": "2023-08-02T21:25:44.795371Z",
     "shell.execute_reply": "2023-08-02T21:25:44.794426Z"
    },
    "papermill": {
     "duration": 3.14624,
     "end_time": "2023-08-02T21:25:44.798176",
     "exception": false,
     "start_time": "2023-08-02T21:25:41.651936",
     "status": "completed"
    },
    "tags": []
   },
   "outputs": [],
   "source": [
    "# 1 Load the Data\n",
    "path = \"/kaggle/input/fitbit/Fitabase Data 4.12.16-5.12.16/\"\n",
    "daily = pd.read_csv(path + 'dailyActivity_merged.csv')\n",
    "hourly_steps = pd.read_csv(path + 'hourlySteps_merged.csv')\n",
    "sleep = pd.read_csv(path + 'sleepDay_merged.csv')\n",
    "weight = pd.read_csv(path + 'weightLogInfo_merged.csv')\n",
    "heart_rate = pd.read_csv(path + 'heartrate_seconds_merged.csv')"
   ]
  },
  {
   "cell_type": "code",
   "execution_count": 3,
   "id": "92474649",
   "metadata": {
    "execution": {
     "iopub.execute_input": "2023-08-02T21:25:44.819937Z",
     "iopub.status.busy": "2023-08-02T21:25:44.819556Z",
     "iopub.status.idle": "2023-08-02T21:25:44.826999Z",
     "shell.execute_reply": "2023-08-02T21:25:44.825958Z"
    },
    "papermill": {
     "duration": 0.021489,
     "end_time": "2023-08-02T21:25:44.829752",
     "exception": false,
     "start_time": "2023-08-02T21:25:44.808263",
     "status": "completed"
    },
    "tags": []
   },
   "outputs": [
    {
     "data": {
      "text/plain": [
       "(940, 15)"
      ]
     },
     "execution_count": 3,
     "metadata": {},
     "output_type": "execute_result"
    }
   ],
   "source": [
    "daily.shape"
   ]
  },
  {
   "cell_type": "code",
   "execution_count": 4,
   "id": "e19e3fb3",
   "metadata": {
    "execution": {
     "iopub.execute_input": "2023-08-02T21:25:44.851605Z",
     "iopub.status.busy": "2023-08-02T21:25:44.851198Z",
     "iopub.status.idle": "2023-08-02T21:25:44.878456Z",
     "shell.execute_reply": "2023-08-02T21:25:44.877433Z"
    },
    "papermill": {
     "duration": 0.040711,
     "end_time": "2023-08-02T21:25:44.880631",
     "exception": false,
     "start_time": "2023-08-02T21:25:44.839920",
     "status": "completed"
    },
    "tags": []
   },
   "outputs": [
    {
     "data": {
      "text/html": [
       "<div>\n",
       "<style scoped>\n",
       "    .dataframe tbody tr th:only-of-type {\n",
       "        vertical-align: middle;\n",
       "    }\n",
       "\n",
       "    .dataframe tbody tr th {\n",
       "        vertical-align: top;\n",
       "    }\n",
       "\n",
       "    .dataframe thead th {\n",
       "        text-align: right;\n",
       "    }\n",
       "</style>\n",
       "<table border=\"1\" class=\"dataframe\">\n",
       "  <thead>\n",
       "    <tr style=\"text-align: right;\">\n",
       "      <th></th>\n",
       "      <th>Id</th>\n",
       "      <th>ActivityDate</th>\n",
       "      <th>TotalSteps</th>\n",
       "      <th>TotalDistance</th>\n",
       "      <th>TrackerDistance</th>\n",
       "      <th>LoggedActivitiesDistance</th>\n",
       "      <th>VeryActiveDistance</th>\n",
       "      <th>ModeratelyActiveDistance</th>\n",
       "      <th>LightActiveDistance</th>\n",
       "      <th>SedentaryActiveDistance</th>\n",
       "      <th>VeryActiveMinutes</th>\n",
       "      <th>FairlyActiveMinutes</th>\n",
       "      <th>LightlyActiveMinutes</th>\n",
       "      <th>SedentaryMinutes</th>\n",
       "      <th>Calories</th>\n",
       "    </tr>\n",
       "  </thead>\n",
       "  <tbody>\n",
       "    <tr>\n",
       "      <th>0</th>\n",
       "      <td>1503960366</td>\n",
       "      <td>4/12/2016</td>\n",
       "      <td>13162</td>\n",
       "      <td>8.50</td>\n",
       "      <td>8.50</td>\n",
       "      <td>0.0</td>\n",
       "      <td>1.88</td>\n",
       "      <td>0.55</td>\n",
       "      <td>6.06</td>\n",
       "      <td>0.0</td>\n",
       "      <td>25</td>\n",
       "      <td>13</td>\n",
       "      <td>328</td>\n",
       "      <td>728</td>\n",
       "      <td>1985</td>\n",
       "    </tr>\n",
       "    <tr>\n",
       "      <th>1</th>\n",
       "      <td>1503960366</td>\n",
       "      <td>4/13/2016</td>\n",
       "      <td>10735</td>\n",
       "      <td>6.97</td>\n",
       "      <td>6.97</td>\n",
       "      <td>0.0</td>\n",
       "      <td>1.57</td>\n",
       "      <td>0.69</td>\n",
       "      <td>4.71</td>\n",
       "      <td>0.0</td>\n",
       "      <td>21</td>\n",
       "      <td>19</td>\n",
       "      <td>217</td>\n",
       "      <td>776</td>\n",
       "      <td>1797</td>\n",
       "    </tr>\n",
       "    <tr>\n",
       "      <th>2</th>\n",
       "      <td>1503960366</td>\n",
       "      <td>4/14/2016</td>\n",
       "      <td>10460</td>\n",
       "      <td>6.74</td>\n",
       "      <td>6.74</td>\n",
       "      <td>0.0</td>\n",
       "      <td>2.44</td>\n",
       "      <td>0.40</td>\n",
       "      <td>3.91</td>\n",
       "      <td>0.0</td>\n",
       "      <td>30</td>\n",
       "      <td>11</td>\n",
       "      <td>181</td>\n",
       "      <td>1218</td>\n",
       "      <td>1776</td>\n",
       "    </tr>\n",
       "    <tr>\n",
       "      <th>3</th>\n",
       "      <td>1503960366</td>\n",
       "      <td>4/15/2016</td>\n",
       "      <td>9762</td>\n",
       "      <td>6.28</td>\n",
       "      <td>6.28</td>\n",
       "      <td>0.0</td>\n",
       "      <td>2.14</td>\n",
       "      <td>1.26</td>\n",
       "      <td>2.83</td>\n",
       "      <td>0.0</td>\n",
       "      <td>29</td>\n",
       "      <td>34</td>\n",
       "      <td>209</td>\n",
       "      <td>726</td>\n",
       "      <td>1745</td>\n",
       "    </tr>\n",
       "    <tr>\n",
       "      <th>4</th>\n",
       "      <td>1503960366</td>\n",
       "      <td>4/16/2016</td>\n",
       "      <td>12669</td>\n",
       "      <td>8.16</td>\n",
       "      <td>8.16</td>\n",
       "      <td>0.0</td>\n",
       "      <td>2.71</td>\n",
       "      <td>0.41</td>\n",
       "      <td>5.04</td>\n",
       "      <td>0.0</td>\n",
       "      <td>36</td>\n",
       "      <td>10</td>\n",
       "      <td>221</td>\n",
       "      <td>773</td>\n",
       "      <td>1863</td>\n",
       "    </tr>\n",
       "  </tbody>\n",
       "</table>\n",
       "</div>"
      ],
      "text/plain": [
       "           Id ActivityDate  TotalSteps  TotalDistance  TrackerDistance  \\\n",
       "0  1503960366    4/12/2016       13162           8.50             8.50   \n",
       "1  1503960366    4/13/2016       10735           6.97             6.97   \n",
       "2  1503960366    4/14/2016       10460           6.74             6.74   \n",
       "3  1503960366    4/15/2016        9762           6.28             6.28   \n",
       "4  1503960366    4/16/2016       12669           8.16             8.16   \n",
       "\n",
       "   LoggedActivitiesDistance  VeryActiveDistance  ModeratelyActiveDistance  \\\n",
       "0                       0.0                1.88                      0.55   \n",
       "1                       0.0                1.57                      0.69   \n",
       "2                       0.0                2.44                      0.40   \n",
       "3                       0.0                2.14                      1.26   \n",
       "4                       0.0                2.71                      0.41   \n",
       "\n",
       "   LightActiveDistance  SedentaryActiveDistance  VeryActiveMinutes  \\\n",
       "0                 6.06                      0.0                 25   \n",
       "1                 4.71                      0.0                 21   \n",
       "2                 3.91                      0.0                 30   \n",
       "3                 2.83                      0.0                 29   \n",
       "4                 5.04                      0.0                 36   \n",
       "\n",
       "   FairlyActiveMinutes  LightlyActiveMinutes  SedentaryMinutes  Calories  \n",
       "0                   13                   328               728      1985  \n",
       "1                   19                   217               776      1797  \n",
       "2                   11                   181              1218      1776  \n",
       "3                   34                   209               726      1745  \n",
       "4                   10                   221               773      1863  "
      ]
     },
     "execution_count": 4,
     "metadata": {},
     "output_type": "execute_result"
    }
   ],
   "source": [
    "daily.head()"
   ]
  },
  {
   "cell_type": "code",
   "execution_count": 5,
   "id": "3d9b1987",
   "metadata": {
    "execution": {
     "iopub.execute_input": "2023-08-02T21:25:44.903030Z",
     "iopub.status.busy": "2023-08-02T21:25:44.902648Z",
     "iopub.status.idle": "2023-08-02T21:25:44.915626Z",
     "shell.execute_reply": "2023-08-02T21:25:44.914549Z"
    },
    "papermill": {
     "duration": 0.026739,
     "end_time": "2023-08-02T21:25:44.917706",
     "exception": false,
     "start_time": "2023-08-02T21:25:44.890967",
     "status": "completed"
    },
    "tags": []
   },
   "outputs": [
    {
     "data": {
      "text/plain": [
       "33"
      ]
     },
     "execution_count": 5,
     "metadata": {},
     "output_type": "execute_result"
    }
   ],
   "source": [
    "daily['Id'].nunique()"
   ]
  },
  {
   "cell_type": "code",
   "execution_count": 6,
   "id": "65521641",
   "metadata": {
    "execution": {
     "iopub.execute_input": "2023-08-02T21:25:44.940595Z",
     "iopub.status.busy": "2023-08-02T21:25:44.940198Z",
     "iopub.status.idle": "2023-08-02T21:25:44.951641Z",
     "shell.execute_reply": "2023-08-02T21:25:44.950489Z"
    },
    "papermill": {
     "duration": 0.025398,
     "end_time": "2023-08-02T21:25:44.953724",
     "exception": false,
     "start_time": "2023-08-02T21:25:44.928326",
     "status": "completed"
    },
    "tags": []
   },
   "outputs": [
    {
     "data": {
      "text/html": [
       "<div>\n",
       "<style scoped>\n",
       "    .dataframe tbody tr th:only-of-type {\n",
       "        vertical-align: middle;\n",
       "    }\n",
       "\n",
       "    .dataframe tbody tr th {\n",
       "        vertical-align: top;\n",
       "    }\n",
       "\n",
       "    .dataframe thead th {\n",
       "        text-align: right;\n",
       "    }\n",
       "</style>\n",
       "<table border=\"1\" class=\"dataframe\">\n",
       "  <thead>\n",
       "    <tr style=\"text-align: right;\">\n",
       "      <th></th>\n",
       "      <th>Id</th>\n",
       "      <th>SleepDay</th>\n",
       "      <th>TotalSleepRecords</th>\n",
       "      <th>TotalMinutesAsleep</th>\n",
       "      <th>TotalTimeInBed</th>\n",
       "    </tr>\n",
       "  </thead>\n",
       "  <tbody>\n",
       "    <tr>\n",
       "      <th>0</th>\n",
       "      <td>1503960366</td>\n",
       "      <td>4/12/2016 12:00:00 AM</td>\n",
       "      <td>1</td>\n",
       "      <td>327</td>\n",
       "      <td>346</td>\n",
       "    </tr>\n",
       "    <tr>\n",
       "      <th>1</th>\n",
       "      <td>1503960366</td>\n",
       "      <td>4/13/2016 12:00:00 AM</td>\n",
       "      <td>2</td>\n",
       "      <td>384</td>\n",
       "      <td>407</td>\n",
       "    </tr>\n",
       "    <tr>\n",
       "      <th>2</th>\n",
       "      <td>1503960366</td>\n",
       "      <td>4/15/2016 12:00:00 AM</td>\n",
       "      <td>1</td>\n",
       "      <td>412</td>\n",
       "      <td>442</td>\n",
       "    </tr>\n",
       "    <tr>\n",
       "      <th>3</th>\n",
       "      <td>1503960366</td>\n",
       "      <td>4/16/2016 12:00:00 AM</td>\n",
       "      <td>2</td>\n",
       "      <td>340</td>\n",
       "      <td>367</td>\n",
       "    </tr>\n",
       "    <tr>\n",
       "      <th>4</th>\n",
       "      <td>1503960366</td>\n",
       "      <td>4/17/2016 12:00:00 AM</td>\n",
       "      <td>1</td>\n",
       "      <td>700</td>\n",
       "      <td>712</td>\n",
       "    </tr>\n",
       "  </tbody>\n",
       "</table>\n",
       "</div>"
      ],
      "text/plain": [
       "           Id               SleepDay  TotalSleepRecords  TotalMinutesAsleep  \\\n",
       "0  1503960366  4/12/2016 12:00:00 AM                  1                 327   \n",
       "1  1503960366  4/13/2016 12:00:00 AM                  2                 384   \n",
       "2  1503960366  4/15/2016 12:00:00 AM                  1                 412   \n",
       "3  1503960366  4/16/2016 12:00:00 AM                  2                 340   \n",
       "4  1503960366  4/17/2016 12:00:00 AM                  1                 700   \n",
       "\n",
       "   TotalTimeInBed  \n",
       "0             346  \n",
       "1             407  \n",
       "2             442  \n",
       "3             367  \n",
       "4             712  "
      ]
     },
     "execution_count": 6,
     "metadata": {},
     "output_type": "execute_result"
    }
   ],
   "source": [
    "sleep.head()"
   ]
  },
  {
   "cell_type": "code",
   "execution_count": 7,
   "id": "0878bcdd",
   "metadata": {
    "execution": {
     "iopub.execute_input": "2023-08-02T21:25:44.976775Z",
     "iopub.status.busy": "2023-08-02T21:25:44.976401Z",
     "iopub.status.idle": "2023-08-02T21:25:44.983619Z",
     "shell.execute_reply": "2023-08-02T21:25:44.982541Z"
    },
    "papermill": {
     "duration": 0.021307,
     "end_time": "2023-08-02T21:25:44.985756",
     "exception": false,
     "start_time": "2023-08-02T21:25:44.964449",
     "status": "completed"
    },
    "tags": []
   },
   "outputs": [
    {
     "data": {
      "text/plain": [
       "24"
      ]
     },
     "execution_count": 7,
     "metadata": {},
     "output_type": "execute_result"
    }
   ],
   "source": [
    "sleep['Id'].nunique()"
   ]
  },
  {
   "cell_type": "markdown",
   "id": "c8de0a0b",
   "metadata": {
    "papermill": {
     "duration": 0.010483,
     "end_time": "2023-08-02T21:25:45.007126",
     "exception": false,
     "start_time": "2023-08-02T21:25:44.996643",
     "status": "completed"
    },
    "tags": []
   },
   "source": [
    "We have sleeping data for only have 24 consumer"
   ]
  },
  {
   "cell_type": "code",
   "execution_count": 8,
   "id": "2f81c245",
   "metadata": {
    "execution": {
     "iopub.execute_input": "2023-08-02T21:25:45.030708Z",
     "iopub.status.busy": "2023-08-02T21:25:45.029961Z",
     "iopub.status.idle": "2023-08-02T21:25:45.035236Z",
     "shell.execute_reply": "2023-08-02T21:25:45.034526Z"
    },
    "papermill": {
     "duration": 0.019281,
     "end_time": "2023-08-02T21:25:45.037192",
     "exception": false,
     "start_time": "2023-08-02T21:25:45.017911",
     "status": "completed"
    },
    "tags": []
   },
   "outputs": [
    {
     "data": {
      "text/plain": [
       "(2483658, 3)"
      ]
     },
     "execution_count": 8,
     "metadata": {},
     "output_type": "execute_result"
    }
   ],
   "source": [
    "heart_rate.shape"
   ]
  },
  {
   "cell_type": "code",
   "execution_count": 9,
   "id": "f3092d34",
   "metadata": {
    "execution": {
     "iopub.execute_input": "2023-08-02T21:25:45.061953Z",
     "iopub.status.busy": "2023-08-02T21:25:45.061314Z",
     "iopub.status.idle": "2023-08-02T21:25:45.071284Z",
     "shell.execute_reply": "2023-08-02T21:25:45.070213Z"
    },
    "papermill": {
     "duration": 0.025357,
     "end_time": "2023-08-02T21:25:45.073362",
     "exception": false,
     "start_time": "2023-08-02T21:25:45.048005",
     "status": "completed"
    },
    "tags": []
   },
   "outputs": [
    {
     "data": {
      "text/html": [
       "<div>\n",
       "<style scoped>\n",
       "    .dataframe tbody tr th:only-of-type {\n",
       "        vertical-align: middle;\n",
       "    }\n",
       "\n",
       "    .dataframe tbody tr th {\n",
       "        vertical-align: top;\n",
       "    }\n",
       "\n",
       "    .dataframe thead th {\n",
       "        text-align: right;\n",
       "    }\n",
       "</style>\n",
       "<table border=\"1\" class=\"dataframe\">\n",
       "  <thead>\n",
       "    <tr style=\"text-align: right;\">\n",
       "      <th></th>\n",
       "      <th>Id</th>\n",
       "      <th>Time</th>\n",
       "      <th>Value</th>\n",
       "    </tr>\n",
       "  </thead>\n",
       "  <tbody>\n",
       "    <tr>\n",
       "      <th>0</th>\n",
       "      <td>2022484408</td>\n",
       "      <td>4/12/2016 7:21:00 AM</td>\n",
       "      <td>97</td>\n",
       "    </tr>\n",
       "    <tr>\n",
       "      <th>1</th>\n",
       "      <td>2022484408</td>\n",
       "      <td>4/12/2016 7:21:05 AM</td>\n",
       "      <td>102</td>\n",
       "    </tr>\n",
       "    <tr>\n",
       "      <th>2</th>\n",
       "      <td>2022484408</td>\n",
       "      <td>4/12/2016 7:21:10 AM</td>\n",
       "      <td>105</td>\n",
       "    </tr>\n",
       "    <tr>\n",
       "      <th>3</th>\n",
       "      <td>2022484408</td>\n",
       "      <td>4/12/2016 7:21:20 AM</td>\n",
       "      <td>103</td>\n",
       "    </tr>\n",
       "    <tr>\n",
       "      <th>4</th>\n",
       "      <td>2022484408</td>\n",
       "      <td>4/12/2016 7:21:25 AM</td>\n",
       "      <td>101</td>\n",
       "    </tr>\n",
       "  </tbody>\n",
       "</table>\n",
       "</div>"
      ],
      "text/plain": [
       "           Id                  Time  Value\n",
       "0  2022484408  4/12/2016 7:21:00 AM     97\n",
       "1  2022484408  4/12/2016 7:21:05 AM    102\n",
       "2  2022484408  4/12/2016 7:21:10 AM    105\n",
       "3  2022484408  4/12/2016 7:21:20 AM    103\n",
       "4  2022484408  4/12/2016 7:21:25 AM    101"
      ]
     },
     "execution_count": 9,
     "metadata": {},
     "output_type": "execute_result"
    }
   ],
   "source": [
    "heart_rate.head()"
   ]
  },
  {
   "cell_type": "code",
   "execution_count": 10,
   "id": "f2b3a981",
   "metadata": {
    "execution": {
     "iopub.execute_input": "2023-08-02T21:25:45.097406Z",
     "iopub.status.busy": "2023-08-02T21:25:45.096795Z",
     "iopub.status.idle": "2023-08-02T21:25:45.117829Z",
     "shell.execute_reply": "2023-08-02T21:25:45.116716Z"
    },
    "papermill": {
     "duration": 0.035709,
     "end_time": "2023-08-02T21:25:45.120064",
     "exception": false,
     "start_time": "2023-08-02T21:25:45.084355",
     "status": "completed"
    },
    "tags": []
   },
   "outputs": [
    {
     "data": {
      "text/plain": [
       "14"
      ]
     },
     "execution_count": 10,
     "metadata": {},
     "output_type": "execute_result"
    }
   ],
   "source": [
    "heart_rate['Id'].nunique()"
   ]
  },
  {
   "cell_type": "code",
   "execution_count": 11,
   "id": "884f97f8",
   "metadata": {
    "execution": {
     "iopub.execute_input": "2023-08-02T21:25:45.144296Z",
     "iopub.status.busy": "2023-08-02T21:25:45.143937Z",
     "iopub.status.idle": "2023-08-02T21:25:45.158338Z",
     "shell.execute_reply": "2023-08-02T21:25:45.157121Z"
    },
    "papermill": {
     "duration": 0.029269,
     "end_time": "2023-08-02T21:25:45.160570",
     "exception": false,
     "start_time": "2023-08-02T21:25:45.131301",
     "status": "completed"
    },
    "tags": []
   },
   "outputs": [
    {
     "data": {
      "text/html": [
       "<div>\n",
       "<style scoped>\n",
       "    .dataframe tbody tr th:only-of-type {\n",
       "        vertical-align: middle;\n",
       "    }\n",
       "\n",
       "    .dataframe tbody tr th {\n",
       "        vertical-align: top;\n",
       "    }\n",
       "\n",
       "    .dataframe thead th {\n",
       "        text-align: right;\n",
       "    }\n",
       "</style>\n",
       "<table border=\"1\" class=\"dataframe\">\n",
       "  <thead>\n",
       "    <tr style=\"text-align: right;\">\n",
       "      <th></th>\n",
       "      <th>Id</th>\n",
       "      <th>Date</th>\n",
       "      <th>WeightKg</th>\n",
       "      <th>WeightPounds</th>\n",
       "      <th>Fat</th>\n",
       "      <th>BMI</th>\n",
       "      <th>IsManualReport</th>\n",
       "      <th>LogId</th>\n",
       "    </tr>\n",
       "  </thead>\n",
       "  <tbody>\n",
       "    <tr>\n",
       "      <th>0</th>\n",
       "      <td>1503960366</td>\n",
       "      <td>5/2/2016 11:59:59 PM</td>\n",
       "      <td>52.599998</td>\n",
       "      <td>115.963147</td>\n",
       "      <td>22.0</td>\n",
       "      <td>22.650000</td>\n",
       "      <td>True</td>\n",
       "      <td>1462233599000</td>\n",
       "    </tr>\n",
       "    <tr>\n",
       "      <th>1</th>\n",
       "      <td>1503960366</td>\n",
       "      <td>5/3/2016 11:59:59 PM</td>\n",
       "      <td>52.599998</td>\n",
       "      <td>115.963147</td>\n",
       "      <td>NaN</td>\n",
       "      <td>22.650000</td>\n",
       "      <td>True</td>\n",
       "      <td>1462319999000</td>\n",
       "    </tr>\n",
       "    <tr>\n",
       "      <th>2</th>\n",
       "      <td>1927972279</td>\n",
       "      <td>4/13/2016 1:08:52 AM</td>\n",
       "      <td>133.500000</td>\n",
       "      <td>294.317120</td>\n",
       "      <td>NaN</td>\n",
       "      <td>47.540001</td>\n",
       "      <td>False</td>\n",
       "      <td>1460509732000</td>\n",
       "    </tr>\n",
       "    <tr>\n",
       "      <th>3</th>\n",
       "      <td>2873212765</td>\n",
       "      <td>4/21/2016 11:59:59 PM</td>\n",
       "      <td>56.700001</td>\n",
       "      <td>125.002104</td>\n",
       "      <td>NaN</td>\n",
       "      <td>21.450001</td>\n",
       "      <td>True</td>\n",
       "      <td>1461283199000</td>\n",
       "    </tr>\n",
       "    <tr>\n",
       "      <th>4</th>\n",
       "      <td>2873212765</td>\n",
       "      <td>5/12/2016 11:59:59 PM</td>\n",
       "      <td>57.299999</td>\n",
       "      <td>126.324875</td>\n",
       "      <td>NaN</td>\n",
       "      <td>21.690001</td>\n",
       "      <td>True</td>\n",
       "      <td>1463097599000</td>\n",
       "    </tr>\n",
       "  </tbody>\n",
       "</table>\n",
       "</div>"
      ],
      "text/plain": [
       "           Id                   Date    WeightKg  WeightPounds   Fat  \\\n",
       "0  1503960366   5/2/2016 11:59:59 PM   52.599998    115.963147  22.0   \n",
       "1  1503960366   5/3/2016 11:59:59 PM   52.599998    115.963147   NaN   \n",
       "2  1927972279   4/13/2016 1:08:52 AM  133.500000    294.317120   NaN   \n",
       "3  2873212765  4/21/2016 11:59:59 PM   56.700001    125.002104   NaN   \n",
       "4  2873212765  5/12/2016 11:59:59 PM   57.299999    126.324875   NaN   \n",
       "\n",
       "         BMI  IsManualReport          LogId  \n",
       "0  22.650000            True  1462233599000  \n",
       "1  22.650000            True  1462319999000  \n",
       "2  47.540001           False  1460509732000  \n",
       "3  21.450001            True  1461283199000  \n",
       "4  21.690001            True  1463097599000  "
      ]
     },
     "execution_count": 11,
     "metadata": {},
     "output_type": "execute_result"
    }
   ],
   "source": [
    "weight.head()"
   ]
  },
  {
   "cell_type": "code",
   "execution_count": 12,
   "id": "84a69e2f",
   "metadata": {
    "execution": {
     "iopub.execute_input": "2023-08-02T21:25:45.185371Z",
     "iopub.status.busy": "2023-08-02T21:25:45.184997Z",
     "iopub.status.idle": "2023-08-02T21:25:45.190650Z",
     "shell.execute_reply": "2023-08-02T21:25:45.189943Z"
    },
    "papermill": {
     "duration": 0.020363,
     "end_time": "2023-08-02T21:25:45.192465",
     "exception": false,
     "start_time": "2023-08-02T21:25:45.172102",
     "status": "completed"
    },
    "tags": []
   },
   "outputs": [
    {
     "data": {
      "text/plain": [
       "8"
      ]
     },
     "execution_count": 12,
     "metadata": {},
     "output_type": "execute_result"
    }
   ],
   "source": [
    "weight['Id'].nunique()"
   ]
  },
  {
   "cell_type": "markdown",
   "id": "442a4573",
   "metadata": {
    "papermill": {
     "duration": 0.011128,
     "end_time": "2023-08-02T21:25:45.215116",
     "exception": false,
     "start_time": "2023-08-02T21:25:45.203988",
     "status": "completed"
    },
    "tags": []
   },
   "source": [
    "heart_rate and weight data is too small to analyse and provide recommendation to Bellabeat as requested, so I'll look for another source of smart device data that shed more light on these two important aspects of health. but for now, I'm going to (inner join) daily_activity and sleep data."
   ]
  },
  {
   "cell_type": "code",
   "execution_count": 13,
   "id": "72b26efc",
   "metadata": {
    "execution": {
     "iopub.execute_input": "2023-08-02T21:25:45.240218Z",
     "iopub.status.busy": "2023-08-02T21:25:45.239834Z",
     "iopub.status.idle": "2023-08-02T21:25:45.248182Z",
     "shell.execute_reply": "2023-08-02T21:25:45.247061Z"
    },
    "papermill": {
     "duration": 0.023261,
     "end_time": "2023-08-02T21:25:45.250290",
     "exception": false,
     "start_time": "2023-08-02T21:25:45.227029",
     "status": "completed"
    },
    "tags": []
   },
   "outputs": [
    {
     "data": {
      "text/plain": [
       "Id                     int64\n",
       "SleepDay              object\n",
       "TotalSleepRecords      int64\n",
       "TotalMinutesAsleep     int64\n",
       "TotalTimeInBed         int64\n",
       "dtype: object"
      ]
     },
     "execution_count": 13,
     "metadata": {},
     "output_type": "execute_result"
    }
   ],
   "source": [
    "#Before merging, we need to reformat and rename datetime column in sleep dataframe, change ActivityDate column from object to datetime in daily dataframe\n",
    "sleep.dtypes"
   ]
  },
  {
   "cell_type": "code",
   "execution_count": 14,
   "id": "ea1be653",
   "metadata": {
    "execution": {
     "iopub.execute_input": "2023-08-02T21:25:45.276010Z",
     "iopub.status.busy": "2023-08-02T21:25:45.275344Z",
     "iopub.status.idle": "2023-08-02T21:25:45.291984Z",
     "shell.execute_reply": "2023-08-02T21:25:45.291030Z"
    },
    "papermill": {
     "duration": 0.032256,
     "end_time": "2023-08-02T21:25:45.294373",
     "exception": false,
     "start_time": "2023-08-02T21:25:45.262117",
     "status": "completed"
    },
    "tags": []
   },
   "outputs": [],
   "source": [
    "sleep['SleepDay'] = pd.to_datetime(sleep['SleepDay'])"
   ]
  },
  {
   "cell_type": "code",
   "execution_count": 15,
   "id": "b9e4eb86",
   "metadata": {
    "execution": {
     "iopub.execute_input": "2023-08-02T21:25:45.320203Z",
     "iopub.status.busy": "2023-08-02T21:25:45.319820Z",
     "iopub.status.idle": "2023-08-02T21:25:45.327305Z",
     "shell.execute_reply": "2023-08-02T21:25:45.326219Z"
    },
    "papermill": {
     "duration": 0.023132,
     "end_time": "2023-08-02T21:25:45.329563",
     "exception": false,
     "start_time": "2023-08-02T21:25:45.306431",
     "status": "completed"
    },
    "tags": []
   },
   "outputs": [],
   "source": [
    "daily['ActivityDate']= pd.to_datetime(daily['ActivityDate'])"
   ]
  },
  {
   "cell_type": "code",
   "execution_count": 16,
   "id": "44ddc53e",
   "metadata": {
    "execution": {
     "iopub.execute_input": "2023-08-02T21:25:45.354867Z",
     "iopub.status.busy": "2023-08-02T21:25:45.354470Z",
     "iopub.status.idle": "2023-08-02T21:25:45.360440Z",
     "shell.execute_reply": "2023-08-02T21:25:45.359429Z"
    },
    "papermill": {
     "duration": 0.020909,
     "end_time": "2023-08-02T21:25:45.362578",
     "exception": false,
     "start_time": "2023-08-02T21:25:45.341669",
     "status": "completed"
    },
    "tags": []
   },
   "outputs": [],
   "source": [
    "sleep.rename(columns={'SleepDay':'ActivityDate'}, inplace = True)"
   ]
  },
  {
   "cell_type": "code",
   "execution_count": 17,
   "id": "fa27d807",
   "metadata": {
    "execution": {
     "iopub.execute_input": "2023-08-02T21:25:45.388514Z",
     "iopub.status.busy": "2023-08-02T21:25:45.388095Z",
     "iopub.status.idle": "2023-08-02T21:25:45.417602Z",
     "shell.execute_reply": "2023-08-02T21:25:45.416558Z"
    },
    "papermill": {
     "duration": 0.044969,
     "end_time": "2023-08-02T21:25:45.420030",
     "exception": false,
     "start_time": "2023-08-02T21:25:45.375061",
     "status": "completed"
    },
    "tags": []
   },
   "outputs": [
    {
     "data": {
      "text/html": [
       "<div>\n",
       "<style scoped>\n",
       "    .dataframe tbody tr th:only-of-type {\n",
       "        vertical-align: middle;\n",
       "    }\n",
       "\n",
       "    .dataframe tbody tr th {\n",
       "        vertical-align: top;\n",
       "    }\n",
       "\n",
       "    .dataframe thead th {\n",
       "        text-align: right;\n",
       "    }\n",
       "</style>\n",
       "<table border=\"1\" class=\"dataframe\">\n",
       "  <thead>\n",
       "    <tr style=\"text-align: right;\">\n",
       "      <th></th>\n",
       "      <th>Id</th>\n",
       "      <th>ActivityDate</th>\n",
       "      <th>TotalSteps</th>\n",
       "      <th>TotalDistance</th>\n",
       "      <th>TrackerDistance</th>\n",
       "      <th>LoggedActivitiesDistance</th>\n",
       "      <th>VeryActiveDistance</th>\n",
       "      <th>ModeratelyActiveDistance</th>\n",
       "      <th>LightActiveDistance</th>\n",
       "      <th>SedentaryActiveDistance</th>\n",
       "      <th>VeryActiveMinutes</th>\n",
       "      <th>FairlyActiveMinutes</th>\n",
       "      <th>LightlyActiveMinutes</th>\n",
       "      <th>SedentaryMinutes</th>\n",
       "      <th>Calories</th>\n",
       "      <th>TotalSleepRecords</th>\n",
       "      <th>TotalMinutesAsleep</th>\n",
       "      <th>TotalTimeInBed</th>\n",
       "    </tr>\n",
       "  </thead>\n",
       "  <tbody>\n",
       "    <tr>\n",
       "      <th>0</th>\n",
       "      <td>1503960366</td>\n",
       "      <td>2016-04-12</td>\n",
       "      <td>13162</td>\n",
       "      <td>8.50</td>\n",
       "      <td>8.50</td>\n",
       "      <td>0.0</td>\n",
       "      <td>1.88</td>\n",
       "      <td>0.55</td>\n",
       "      <td>6.06</td>\n",
       "      <td>0.0</td>\n",
       "      <td>25</td>\n",
       "      <td>13</td>\n",
       "      <td>328</td>\n",
       "      <td>728</td>\n",
       "      <td>1985</td>\n",
       "      <td>1</td>\n",
       "      <td>327</td>\n",
       "      <td>346</td>\n",
       "    </tr>\n",
       "    <tr>\n",
       "      <th>1</th>\n",
       "      <td>1503960366</td>\n",
       "      <td>2016-04-13</td>\n",
       "      <td>10735</td>\n",
       "      <td>6.97</td>\n",
       "      <td>6.97</td>\n",
       "      <td>0.0</td>\n",
       "      <td>1.57</td>\n",
       "      <td>0.69</td>\n",
       "      <td>4.71</td>\n",
       "      <td>0.0</td>\n",
       "      <td>21</td>\n",
       "      <td>19</td>\n",
       "      <td>217</td>\n",
       "      <td>776</td>\n",
       "      <td>1797</td>\n",
       "      <td>2</td>\n",
       "      <td>384</td>\n",
       "      <td>407</td>\n",
       "    </tr>\n",
       "    <tr>\n",
       "      <th>2</th>\n",
       "      <td>1503960366</td>\n",
       "      <td>2016-04-15</td>\n",
       "      <td>9762</td>\n",
       "      <td>6.28</td>\n",
       "      <td>6.28</td>\n",
       "      <td>0.0</td>\n",
       "      <td>2.14</td>\n",
       "      <td>1.26</td>\n",
       "      <td>2.83</td>\n",
       "      <td>0.0</td>\n",
       "      <td>29</td>\n",
       "      <td>34</td>\n",
       "      <td>209</td>\n",
       "      <td>726</td>\n",
       "      <td>1745</td>\n",
       "      <td>1</td>\n",
       "      <td>412</td>\n",
       "      <td>442</td>\n",
       "    </tr>\n",
       "    <tr>\n",
       "      <th>3</th>\n",
       "      <td>1503960366</td>\n",
       "      <td>2016-04-16</td>\n",
       "      <td>12669</td>\n",
       "      <td>8.16</td>\n",
       "      <td>8.16</td>\n",
       "      <td>0.0</td>\n",
       "      <td>2.71</td>\n",
       "      <td>0.41</td>\n",
       "      <td>5.04</td>\n",
       "      <td>0.0</td>\n",
       "      <td>36</td>\n",
       "      <td>10</td>\n",
       "      <td>221</td>\n",
       "      <td>773</td>\n",
       "      <td>1863</td>\n",
       "      <td>2</td>\n",
       "      <td>340</td>\n",
       "      <td>367</td>\n",
       "    </tr>\n",
       "    <tr>\n",
       "      <th>4</th>\n",
       "      <td>1503960366</td>\n",
       "      <td>2016-04-17</td>\n",
       "      <td>9705</td>\n",
       "      <td>6.48</td>\n",
       "      <td>6.48</td>\n",
       "      <td>0.0</td>\n",
       "      <td>3.19</td>\n",
       "      <td>0.78</td>\n",
       "      <td>2.51</td>\n",
       "      <td>0.0</td>\n",
       "      <td>38</td>\n",
       "      <td>20</td>\n",
       "      <td>164</td>\n",
       "      <td>539</td>\n",
       "      <td>1728</td>\n",
       "      <td>1</td>\n",
       "      <td>700</td>\n",
       "      <td>712</td>\n",
       "    </tr>\n",
       "  </tbody>\n",
       "</table>\n",
       "</div>"
      ],
      "text/plain": [
       "           Id ActivityDate  TotalSteps  TotalDistance  TrackerDistance  \\\n",
       "0  1503960366   2016-04-12       13162           8.50             8.50   \n",
       "1  1503960366   2016-04-13       10735           6.97             6.97   \n",
       "2  1503960366   2016-04-15        9762           6.28             6.28   \n",
       "3  1503960366   2016-04-16       12669           8.16             8.16   \n",
       "4  1503960366   2016-04-17        9705           6.48             6.48   \n",
       "\n",
       "   LoggedActivitiesDistance  VeryActiveDistance  ModeratelyActiveDistance  \\\n",
       "0                       0.0                1.88                      0.55   \n",
       "1                       0.0                1.57                      0.69   \n",
       "2                       0.0                2.14                      1.26   \n",
       "3                       0.0                2.71                      0.41   \n",
       "4                       0.0                3.19                      0.78   \n",
       "\n",
       "   LightActiveDistance  SedentaryActiveDistance  VeryActiveMinutes  \\\n",
       "0                 6.06                      0.0                 25   \n",
       "1                 4.71                      0.0                 21   \n",
       "2                 2.83                      0.0                 29   \n",
       "3                 5.04                      0.0                 36   \n",
       "4                 2.51                      0.0                 38   \n",
       "\n",
       "   FairlyActiveMinutes  LightlyActiveMinutes  SedentaryMinutes  Calories  \\\n",
       "0                   13                   328               728      1985   \n",
       "1                   19                   217               776      1797   \n",
       "2                   34                   209               726      1745   \n",
       "3                   10                   221               773      1863   \n",
       "4                   20                   164               539      1728   \n",
       "\n",
       "   TotalSleepRecords  TotalMinutesAsleep  TotalTimeInBed  \n",
       "0                  1                 327             346  \n",
       "1                  2                 384             407  \n",
       "2                  1                 412             442  \n",
       "3                  2                 340             367  \n",
       "4                  1                 700             712  "
      ]
     },
     "execution_count": 17,
     "metadata": {},
     "output_type": "execute_result"
    }
   ],
   "source": [
    "inner_daily_act_sleep = pd.merge(daily, sleep, on=['Id','ActivityDate'], how='inner')\n",
    "inner_daily_act_sleep.head()"
   ]
  },
  {
   "cell_type": "code",
   "execution_count": 18,
   "id": "393d2d66",
   "metadata": {
    "execution": {
     "iopub.execute_input": "2023-08-02T21:25:45.446326Z",
     "iopub.status.busy": "2023-08-02T21:25:45.445558Z",
     "iopub.status.idle": "2023-08-02T21:25:45.452857Z",
     "shell.execute_reply": "2023-08-02T21:25:45.451781Z"
    },
    "papermill": {
     "duration": 0.022955,
     "end_time": "2023-08-02T21:25:45.455198",
     "exception": false,
     "start_time": "2023-08-02T21:25:45.432243",
     "status": "completed"
    },
    "tags": []
   },
   "outputs": [
    {
     "data": {
      "text/plain": [
       "24"
      ]
     },
     "execution_count": 18,
     "metadata": {},
     "output_type": "execute_result"
    }
   ],
   "source": [
    "inner_daily_act_sleep['Id'].nunique() "
   ]
  },
  {
   "cell_type": "markdown",
   "id": "6a971c49",
   "metadata": {
    "papermill": {
     "duration": 0.011867,
     "end_time": "2023-08-02T21:25:45.479265",
     "exception": false,
     "start_time": "2023-08-02T21:25:45.467398",
     "status": "completed"
    },
    "tags": []
   },
   "source": [
    "Only 24 consumer because we inner joined dailyactivity and dailysleep data, and by so we lost data for 9 consumers..\n",
    "I'm gonna check the minuteSleep_merged file, maybe we'll get data for all the 33 consumers. Otherwise, I'll soon be looking for additional sources of smart health devices, because not only sleeping data is not enough, heart rate and weight data are also too small to get useful insights from."
   ]
  },
  {
   "cell_type": "code",
   "execution_count": 19,
   "id": "84285787",
   "metadata": {
    "execution": {
     "iopub.execute_input": "2023-08-02T21:25:45.505761Z",
     "iopub.status.busy": "2023-08-02T21:25:45.505104Z",
     "iopub.status.idle": "2023-08-02T21:25:45.723395Z",
     "shell.execute_reply": "2023-08-02T21:25:45.721875Z"
    },
    "papermill": {
     "duration": 0.234304,
     "end_time": "2023-08-02T21:25:45.725736",
     "exception": false,
     "start_time": "2023-08-02T21:25:45.491432",
     "status": "completed"
    },
    "tags": []
   },
   "outputs": [
    {
     "data": {
      "text/html": [
       "<div>\n",
       "<style scoped>\n",
       "    .dataframe tbody tr th:only-of-type {\n",
       "        vertical-align: middle;\n",
       "    }\n",
       "\n",
       "    .dataframe tbody tr th {\n",
       "        vertical-align: top;\n",
       "    }\n",
       "\n",
       "    .dataframe thead th {\n",
       "        text-align: right;\n",
       "    }\n",
       "</style>\n",
       "<table border=\"1\" class=\"dataframe\">\n",
       "  <thead>\n",
       "    <tr style=\"text-align: right;\">\n",
       "      <th></th>\n",
       "      <th>Id</th>\n",
       "      <th>date</th>\n",
       "      <th>value</th>\n",
       "      <th>logId</th>\n",
       "    </tr>\n",
       "  </thead>\n",
       "  <tbody>\n",
       "    <tr>\n",
       "      <th>0</th>\n",
       "      <td>1503960366</td>\n",
       "      <td>4/12/2016 2:47:30 AM</td>\n",
       "      <td>3</td>\n",
       "      <td>11380564589</td>\n",
       "    </tr>\n",
       "    <tr>\n",
       "      <th>1</th>\n",
       "      <td>1503960366</td>\n",
       "      <td>4/12/2016 2:48:30 AM</td>\n",
       "      <td>2</td>\n",
       "      <td>11380564589</td>\n",
       "    </tr>\n",
       "    <tr>\n",
       "      <th>2</th>\n",
       "      <td>1503960366</td>\n",
       "      <td>4/12/2016 2:49:30 AM</td>\n",
       "      <td>1</td>\n",
       "      <td>11380564589</td>\n",
       "    </tr>\n",
       "    <tr>\n",
       "      <th>3</th>\n",
       "      <td>1503960366</td>\n",
       "      <td>4/12/2016 2:50:30 AM</td>\n",
       "      <td>1</td>\n",
       "      <td>11380564589</td>\n",
       "    </tr>\n",
       "    <tr>\n",
       "      <th>4</th>\n",
       "      <td>1503960366</td>\n",
       "      <td>4/12/2016 2:51:30 AM</td>\n",
       "      <td>1</td>\n",
       "      <td>11380564589</td>\n",
       "    </tr>\n",
       "  </tbody>\n",
       "</table>\n",
       "</div>"
      ],
      "text/plain": [
       "           Id                  date  value        logId\n",
       "0  1503960366  4/12/2016 2:47:30 AM      3  11380564589\n",
       "1  1503960366  4/12/2016 2:48:30 AM      2  11380564589\n",
       "2  1503960366  4/12/2016 2:49:30 AM      1  11380564589\n",
       "3  1503960366  4/12/2016 2:50:30 AM      1  11380564589\n",
       "4  1503960366  4/12/2016 2:51:30 AM      1  11380564589"
      ]
     },
     "execution_count": 19,
     "metadata": {},
     "output_type": "execute_result"
    }
   ],
   "source": [
    "minuteSleep = pd.read_csv(path + 'minuteSleep_merged.csv')\n",
    "minuteSleep.head()"
   ]
  },
  {
   "cell_type": "code",
   "execution_count": 20,
   "id": "1e5f9449",
   "metadata": {
    "execution": {
     "iopub.execute_input": "2023-08-02T21:25:45.752562Z",
     "iopub.status.busy": "2023-08-02T21:25:45.752160Z",
     "iopub.status.idle": "2023-08-02T21:25:45.759572Z",
     "shell.execute_reply": "2023-08-02T21:25:45.758567Z"
    },
    "papermill": {
     "duration": 0.02331,
     "end_time": "2023-08-02T21:25:45.761619",
     "exception": false,
     "start_time": "2023-08-02T21:25:45.738309",
     "status": "completed"
    },
    "tags": []
   },
   "outputs": [
    {
     "data": {
      "text/plain": [
       "24"
      ]
     },
     "execution_count": 20,
     "metadata": {},
     "output_type": "execute_result"
    }
   ],
   "source": [
    "minuteSleep['Id'].nunique()"
   ]
  },
  {
   "cell_type": "markdown",
   "id": "2d9bc1ef",
   "metadata": {
    "papermill": {
     "duration": 0.012496,
     "end_time": "2023-08-02T21:25:45.786754",
     "exception": false,
     "start_time": "2023-08-02T21:25:45.774258",
     "status": "completed"
    },
    "tags": []
   },
   "source": [
    "Same thing! 24 unique consumer.\n",
    "\n",
    "Before start looking for other data sources, I'm gonna analyse the data I have since it's recommended by our main stakeholder. "
   ]
  },
  {
   "cell_type": "markdown",
   "id": "b830f56f",
   "metadata": {
    "papermill": {
     "duration": 0.012249,
     "end_time": "2023-08-02T21:25:45.811377",
     "exception": false,
     "start_time": "2023-08-02T21:25:45.799128",
     "status": "completed"
    },
    "tags": []
   },
   "source": [
    "### Analyze FitBit Consumers Data"
   ]
  },
  {
   "cell_type": "code",
   "execution_count": 21,
   "id": "00df97ec",
   "metadata": {
    "execution": {
     "iopub.execute_input": "2023-08-02T21:25:45.838164Z",
     "iopub.status.busy": "2023-08-02T21:25:45.837453Z",
     "iopub.status.idle": "2023-08-02T21:25:45.857299Z",
     "shell.execute_reply": "2023-08-02T21:25:45.856479Z"
    },
    "papermill": {
     "duration": 0.035331,
     "end_time": "2023-08-02T21:25:45.859225",
     "exception": false,
     "start_time": "2023-08-02T21:25:45.823894",
     "status": "completed"
    },
    "tags": []
   },
   "outputs": [
    {
     "data": {
      "text/html": [
       "<div>\n",
       "<style scoped>\n",
       "    .dataframe tbody tr th:only-of-type {\n",
       "        vertical-align: middle;\n",
       "    }\n",
       "\n",
       "    .dataframe tbody tr th {\n",
       "        vertical-align: top;\n",
       "    }\n",
       "\n",
       "    .dataframe thead th {\n",
       "        text-align: right;\n",
       "    }\n",
       "</style>\n",
       "<table border=\"1\" class=\"dataframe\">\n",
       "  <thead>\n",
       "    <tr style=\"text-align: right;\">\n",
       "      <th></th>\n",
       "      <th>Id</th>\n",
       "      <th>ActivityDate</th>\n",
       "      <th>TotalSteps</th>\n",
       "      <th>TotalDistance</th>\n",
       "      <th>TrackerDistance</th>\n",
       "      <th>LoggedActivitiesDistance</th>\n",
       "      <th>VeryActiveDistance</th>\n",
       "      <th>ModeratelyActiveDistance</th>\n",
       "      <th>LightActiveDistance</th>\n",
       "      <th>SedentaryActiveDistance</th>\n",
       "      <th>VeryActiveMinutes</th>\n",
       "      <th>FairlyActiveMinutes</th>\n",
       "      <th>LightlyActiveMinutes</th>\n",
       "      <th>SedentaryMinutes</th>\n",
       "      <th>Calories</th>\n",
       "      <th>TotalSleepRecords</th>\n",
       "      <th>TotalMinutesAsleep</th>\n",
       "      <th>TotalTimeInBed</th>\n",
       "    </tr>\n",
       "  </thead>\n",
       "  <tbody>\n",
       "    <tr>\n",
       "      <th>0</th>\n",
       "      <td>1503960366</td>\n",
       "      <td>2016-04-12</td>\n",
       "      <td>13162</td>\n",
       "      <td>8.50</td>\n",
       "      <td>8.50</td>\n",
       "      <td>0.0</td>\n",
       "      <td>1.88</td>\n",
       "      <td>0.55</td>\n",
       "      <td>6.06</td>\n",
       "      <td>0.0</td>\n",
       "      <td>25</td>\n",
       "      <td>13</td>\n",
       "      <td>328</td>\n",
       "      <td>728</td>\n",
       "      <td>1985</td>\n",
       "      <td>1</td>\n",
       "      <td>327</td>\n",
       "      <td>346</td>\n",
       "    </tr>\n",
       "    <tr>\n",
       "      <th>1</th>\n",
       "      <td>1503960366</td>\n",
       "      <td>2016-04-13</td>\n",
       "      <td>10735</td>\n",
       "      <td>6.97</td>\n",
       "      <td>6.97</td>\n",
       "      <td>0.0</td>\n",
       "      <td>1.57</td>\n",
       "      <td>0.69</td>\n",
       "      <td>4.71</td>\n",
       "      <td>0.0</td>\n",
       "      <td>21</td>\n",
       "      <td>19</td>\n",
       "      <td>217</td>\n",
       "      <td>776</td>\n",
       "      <td>1797</td>\n",
       "      <td>2</td>\n",
       "      <td>384</td>\n",
       "      <td>407</td>\n",
       "    </tr>\n",
       "    <tr>\n",
       "      <th>2</th>\n",
       "      <td>1503960366</td>\n",
       "      <td>2016-04-15</td>\n",
       "      <td>9762</td>\n",
       "      <td>6.28</td>\n",
       "      <td>6.28</td>\n",
       "      <td>0.0</td>\n",
       "      <td>2.14</td>\n",
       "      <td>1.26</td>\n",
       "      <td>2.83</td>\n",
       "      <td>0.0</td>\n",
       "      <td>29</td>\n",
       "      <td>34</td>\n",
       "      <td>209</td>\n",
       "      <td>726</td>\n",
       "      <td>1745</td>\n",
       "      <td>1</td>\n",
       "      <td>412</td>\n",
       "      <td>442</td>\n",
       "    </tr>\n",
       "    <tr>\n",
       "      <th>3</th>\n",
       "      <td>1503960366</td>\n",
       "      <td>2016-04-16</td>\n",
       "      <td>12669</td>\n",
       "      <td>8.16</td>\n",
       "      <td>8.16</td>\n",
       "      <td>0.0</td>\n",
       "      <td>2.71</td>\n",
       "      <td>0.41</td>\n",
       "      <td>5.04</td>\n",
       "      <td>0.0</td>\n",
       "      <td>36</td>\n",
       "      <td>10</td>\n",
       "      <td>221</td>\n",
       "      <td>773</td>\n",
       "      <td>1863</td>\n",
       "      <td>2</td>\n",
       "      <td>340</td>\n",
       "      <td>367</td>\n",
       "    </tr>\n",
       "    <tr>\n",
       "      <th>4</th>\n",
       "      <td>1503960366</td>\n",
       "      <td>2016-04-17</td>\n",
       "      <td>9705</td>\n",
       "      <td>6.48</td>\n",
       "      <td>6.48</td>\n",
       "      <td>0.0</td>\n",
       "      <td>3.19</td>\n",
       "      <td>0.78</td>\n",
       "      <td>2.51</td>\n",
       "      <td>0.0</td>\n",
       "      <td>38</td>\n",
       "      <td>20</td>\n",
       "      <td>164</td>\n",
       "      <td>539</td>\n",
       "      <td>1728</td>\n",
       "      <td>1</td>\n",
       "      <td>700</td>\n",
       "      <td>712</td>\n",
       "    </tr>\n",
       "  </tbody>\n",
       "</table>\n",
       "</div>"
      ],
      "text/plain": [
       "           Id ActivityDate  TotalSteps  TotalDistance  TrackerDistance  \\\n",
       "0  1503960366   2016-04-12       13162           8.50             8.50   \n",
       "1  1503960366   2016-04-13       10735           6.97             6.97   \n",
       "2  1503960366   2016-04-15        9762           6.28             6.28   \n",
       "3  1503960366   2016-04-16       12669           8.16             8.16   \n",
       "4  1503960366   2016-04-17        9705           6.48             6.48   \n",
       "\n",
       "   LoggedActivitiesDistance  VeryActiveDistance  ModeratelyActiveDistance  \\\n",
       "0                       0.0                1.88                      0.55   \n",
       "1                       0.0                1.57                      0.69   \n",
       "2                       0.0                2.14                      1.26   \n",
       "3                       0.0                2.71                      0.41   \n",
       "4                       0.0                3.19                      0.78   \n",
       "\n",
       "   LightActiveDistance  SedentaryActiveDistance  VeryActiveMinutes  \\\n",
       "0                 6.06                      0.0                 25   \n",
       "1                 4.71                      0.0                 21   \n",
       "2                 2.83                      0.0                 29   \n",
       "3                 5.04                      0.0                 36   \n",
       "4                 2.51                      0.0                 38   \n",
       "\n",
       "   FairlyActiveMinutes  LightlyActiveMinutes  SedentaryMinutes  Calories  \\\n",
       "0                   13                   328               728      1985   \n",
       "1                   19                   217               776      1797   \n",
       "2                   34                   209               726      1745   \n",
       "3                   10                   221               773      1863   \n",
       "4                   20                   164               539      1728   \n",
       "\n",
       "   TotalSleepRecords  TotalMinutesAsleep  TotalTimeInBed  \n",
       "0                  1                 327             346  \n",
       "1                  2                 384             407  \n",
       "2                  1                 412             442  \n",
       "3                  2                 340             367  \n",
       "4                  1                 700             712  "
      ]
     },
     "execution_count": 21,
     "metadata": {},
     "output_type": "execute_result"
    }
   ],
   "source": [
    "FitBit = inner_daily_act_sleep\n",
    "FitBit.head()"
   ]
  },
  {
   "cell_type": "code",
   "execution_count": 22,
   "id": "9e63ff09",
   "metadata": {
    "execution": {
     "iopub.execute_input": "2023-08-02T21:25:45.887739Z",
     "iopub.status.busy": "2023-08-02T21:25:45.887349Z",
     "iopub.status.idle": "2023-08-02T21:25:45.893596Z",
     "shell.execute_reply": "2023-08-02T21:25:45.892579Z"
    },
    "papermill": {
     "duration": 0.023212,
     "end_time": "2023-08-02T21:25:45.895852",
     "exception": false,
     "start_time": "2023-08-02T21:25:45.872640",
     "status": "completed"
    },
    "tags": []
   },
   "outputs": [
    {
     "data": {
      "text/plain": [
       "(413, 18)"
      ]
     },
     "execution_count": 22,
     "metadata": {},
     "output_type": "execute_result"
    }
   ],
   "source": [
    "FitBit.shape"
   ]
  },
  {
   "cell_type": "code",
   "execution_count": 23,
   "id": "d01754e5",
   "metadata": {
    "execution": {
     "iopub.execute_input": "2023-08-02T21:25:45.923373Z",
     "iopub.status.busy": "2023-08-02T21:25:45.922992Z",
     "iopub.status.idle": "2023-08-02T21:25:45.929932Z",
     "shell.execute_reply": "2023-08-02T21:25:45.928881Z"
    },
    "papermill": {
     "duration": 0.023283,
     "end_time": "2023-08-02T21:25:45.932169",
     "exception": false,
     "start_time": "2023-08-02T21:25:45.908886",
     "status": "completed"
    },
    "tags": []
   },
   "outputs": [],
   "source": [
    "#Drop unnecessary and duplicated columns\n",
    "FitBit.drop(['LoggedActivitiesDistance','SedentaryActiveDistance', 'TrackerDistance'], axis=1, inplace= True)\n",
    "\n",
    "#Rename Id column to user \n",
    "FitBit.rename(columns = {'Id':'User'}, inplace = True)"
   ]
  },
  {
   "cell_type": "code",
   "execution_count": 24,
   "id": "781baf4b",
   "metadata": {
    "execution": {
     "iopub.execute_input": "2023-08-02T21:25:45.960549Z",
     "iopub.status.busy": "2023-08-02T21:25:45.960024Z",
     "iopub.status.idle": "2023-08-02T21:25:45.978664Z",
     "shell.execute_reply": "2023-08-02T21:25:45.977595Z"
    },
    "papermill": {
     "duration": 0.03537,
     "end_time": "2023-08-02T21:25:45.980928",
     "exception": false,
     "start_time": "2023-08-02T21:25:45.945558",
     "status": "completed"
    },
    "tags": []
   },
   "outputs": [
    {
     "data": {
      "text/html": [
       "<div>\n",
       "<style scoped>\n",
       "    .dataframe tbody tr th:only-of-type {\n",
       "        vertical-align: middle;\n",
       "    }\n",
       "\n",
       "    .dataframe tbody tr th {\n",
       "        vertical-align: top;\n",
       "    }\n",
       "\n",
       "    .dataframe thead th {\n",
       "        text-align: right;\n",
       "    }\n",
       "</style>\n",
       "<table border=\"1\" class=\"dataframe\">\n",
       "  <thead>\n",
       "    <tr style=\"text-align: right;\">\n",
       "      <th></th>\n",
       "      <th>User</th>\n",
       "      <th>ActivityDate</th>\n",
       "      <th>TotalSteps</th>\n",
       "      <th>TotalDistance</th>\n",
       "      <th>VeryActiveDistance</th>\n",
       "      <th>ModeratelyActiveDistance</th>\n",
       "      <th>LightActiveDistance</th>\n",
       "      <th>VeryActiveMinutes</th>\n",
       "      <th>FairlyActiveMinutes</th>\n",
       "      <th>LightlyActiveMinutes</th>\n",
       "      <th>SedentaryMinutes</th>\n",
       "      <th>Calories</th>\n",
       "      <th>TotalSleepRecords</th>\n",
       "      <th>TotalMinutesAsleep</th>\n",
       "      <th>TotalTimeInBed</th>\n",
       "    </tr>\n",
       "  </thead>\n",
       "  <tbody>\n",
       "    <tr>\n",
       "      <th>0</th>\n",
       "      <td>1503960366</td>\n",
       "      <td>2016-04-12</td>\n",
       "      <td>13162</td>\n",
       "      <td>8.50</td>\n",
       "      <td>1.88</td>\n",
       "      <td>0.55</td>\n",
       "      <td>6.06</td>\n",
       "      <td>25</td>\n",
       "      <td>13</td>\n",
       "      <td>328</td>\n",
       "      <td>728</td>\n",
       "      <td>1985</td>\n",
       "      <td>1</td>\n",
       "      <td>327</td>\n",
       "      <td>346</td>\n",
       "    </tr>\n",
       "    <tr>\n",
       "      <th>1</th>\n",
       "      <td>1503960366</td>\n",
       "      <td>2016-04-13</td>\n",
       "      <td>10735</td>\n",
       "      <td>6.97</td>\n",
       "      <td>1.57</td>\n",
       "      <td>0.69</td>\n",
       "      <td>4.71</td>\n",
       "      <td>21</td>\n",
       "      <td>19</td>\n",
       "      <td>217</td>\n",
       "      <td>776</td>\n",
       "      <td>1797</td>\n",
       "      <td>2</td>\n",
       "      <td>384</td>\n",
       "      <td>407</td>\n",
       "    </tr>\n",
       "    <tr>\n",
       "      <th>2</th>\n",
       "      <td>1503960366</td>\n",
       "      <td>2016-04-15</td>\n",
       "      <td>9762</td>\n",
       "      <td>6.28</td>\n",
       "      <td>2.14</td>\n",
       "      <td>1.26</td>\n",
       "      <td>2.83</td>\n",
       "      <td>29</td>\n",
       "      <td>34</td>\n",
       "      <td>209</td>\n",
       "      <td>726</td>\n",
       "      <td>1745</td>\n",
       "      <td>1</td>\n",
       "      <td>412</td>\n",
       "      <td>442</td>\n",
       "    </tr>\n",
       "    <tr>\n",
       "      <th>3</th>\n",
       "      <td>1503960366</td>\n",
       "      <td>2016-04-16</td>\n",
       "      <td>12669</td>\n",
       "      <td>8.16</td>\n",
       "      <td>2.71</td>\n",
       "      <td>0.41</td>\n",
       "      <td>5.04</td>\n",
       "      <td>36</td>\n",
       "      <td>10</td>\n",
       "      <td>221</td>\n",
       "      <td>773</td>\n",
       "      <td>1863</td>\n",
       "      <td>2</td>\n",
       "      <td>340</td>\n",
       "      <td>367</td>\n",
       "    </tr>\n",
       "    <tr>\n",
       "      <th>4</th>\n",
       "      <td>1503960366</td>\n",
       "      <td>2016-04-17</td>\n",
       "      <td>9705</td>\n",
       "      <td>6.48</td>\n",
       "      <td>3.19</td>\n",
       "      <td>0.78</td>\n",
       "      <td>2.51</td>\n",
       "      <td>38</td>\n",
       "      <td>20</td>\n",
       "      <td>164</td>\n",
       "      <td>539</td>\n",
       "      <td>1728</td>\n",
       "      <td>1</td>\n",
       "      <td>700</td>\n",
       "      <td>712</td>\n",
       "    </tr>\n",
       "  </tbody>\n",
       "</table>\n",
       "</div>"
      ],
      "text/plain": [
       "         User ActivityDate  TotalSteps  TotalDistance  VeryActiveDistance  \\\n",
       "0  1503960366   2016-04-12       13162           8.50                1.88   \n",
       "1  1503960366   2016-04-13       10735           6.97                1.57   \n",
       "2  1503960366   2016-04-15        9762           6.28                2.14   \n",
       "3  1503960366   2016-04-16       12669           8.16                2.71   \n",
       "4  1503960366   2016-04-17        9705           6.48                3.19   \n",
       "\n",
       "   ModeratelyActiveDistance  LightActiveDistance  VeryActiveMinutes  \\\n",
       "0                      0.55                 6.06                 25   \n",
       "1                      0.69                 4.71                 21   \n",
       "2                      1.26                 2.83                 29   \n",
       "3                      0.41                 5.04                 36   \n",
       "4                      0.78                 2.51                 38   \n",
       "\n",
       "   FairlyActiveMinutes  LightlyActiveMinutes  SedentaryMinutes  Calories  \\\n",
       "0                   13                   328               728      1985   \n",
       "1                   19                   217               776      1797   \n",
       "2                   34                   209               726      1745   \n",
       "3                   10                   221               773      1863   \n",
       "4                   20                   164               539      1728   \n",
       "\n",
       "   TotalSleepRecords  TotalMinutesAsleep  TotalTimeInBed  \n",
       "0                  1                 327             346  \n",
       "1                  2                 384             407  \n",
       "2                  1                 412             442  \n",
       "3                  2                 340             367  \n",
       "4                  1                 700             712  "
      ]
     },
     "execution_count": 24,
     "metadata": {},
     "output_type": "execute_result"
    }
   ],
   "source": [
    "FitBit.head()"
   ]
  },
  {
   "cell_type": "code",
   "execution_count": 25,
   "id": "9d8dcbab",
   "metadata": {
    "execution": {
     "iopub.execute_input": "2023-08-02T21:25:46.008788Z",
     "iopub.status.busy": "2023-08-02T21:25:46.008375Z",
     "iopub.status.idle": "2023-08-02T21:25:46.461366Z",
     "shell.execute_reply": "2023-08-02T21:25:46.460058Z"
    },
    "papermill": {
     "duration": 0.469685,
     "end_time": "2023-08-02T21:25:46.463821",
     "exception": false,
     "start_time": "2023-08-02T21:25:45.994136",
     "status": "completed"
    },
    "tags": []
   },
   "outputs": [
    {
     "data": {
      "image/png": "[encoded data removed]",
      "text/plain": [
       "<Figure size 640x480 with 2 Axes>"
      ]
     },
     "metadata": {},
     "output_type": "display_data"
    }
   ],
   "source": [
    "scatter = FitBit.plot(x = 'TotalSteps', y = 'TotalDistance', kind = 'scatter', c = 'Calories', colormap = 'GnBu', );\n",
    "scatter.set_title('Total-steps, Distance, and calories');"
   ]
  },
  {
   "cell_type": "markdown",
   "id": "6a6535ed",
   "metadata": {
    "papermill": {
     "duration": 0.013543,
     "end_time": "2023-08-02T21:25:46.491416",
     "exception": false,
     "start_time": "2023-08-02T21:25:46.477873",
     "status": "completed"
    },
    "tags": []
   },
   "source": [
    "**Obviously, the more you walk, the more calories you burn!**"
   ]
  },
  {
   "cell_type": "code",
   "execution_count": 26,
   "id": "d0ce3734",
   "metadata": {
    "execution": {
     "iopub.execute_input": "2023-08-02T21:25:46.520948Z",
     "iopub.status.busy": "2023-08-02T21:25:46.520534Z",
     "iopub.status.idle": "2023-08-02T21:25:46.970896Z",
     "shell.execute_reply": "2023-08-02T21:25:46.969883Z"
    },
    "papermill": {
     "duration": 0.469463,
     "end_time": "2023-08-02T21:25:46.974759",
     "exception": false,
     "start_time": "2023-08-02T21:25:46.505296",
     "status": "completed"
    },
    "tags": []
   },
   "outputs": [
    {
     "data": {
      "image/png": "[encoded data removed]",
      "text/plain": [
       "<Figure size 640x480 with 2 Axes>"
      ]
     },
     "metadata": {},
     "output_type": "display_data"
    }
   ],
   "source": [
    "scatter = FitBit.plot(x = 'TotalMinutesAsleep', y = 'TotalDistance', kind = 'scatter', c = 'Calories', colormap = 'GnBu', );\n",
    "scatter.set_title('Total sleep time, Distance, and calories');"
   ]
  },
  {
   "cell_type": "markdown",
   "id": "3657570f",
   "metadata": {
    "papermill": {
     "duration": 0.016958,
     "end_time": "2023-08-02T21:25:47.013659",
     "exception": false,
     "start_time": "2023-08-02T21:25:46.996701",
     "status": "completed"
    },
    "tags": []
   },
   "source": [
    "**The total sleep time has no effect on burned calories amount, nor on the distance one can travel, hence it's reasonable enough to conclude that sleep has no effect on the level of consumer's activity** \n",
    "\n",
    "Although many studies and common sense suggest that the relation between (sleep, activity level) is positively strong, many studies found no such relation between them, and one even reported a negative impact of exercise on sleep. View this systematic review to find more about this subject: https://www.ncbi.nlm.nih.gov/pmc/articles/PMC5385214/\n",
    "\n",
    "The difference in the results of these studies was due to participants' age, health status, and the intensity of exercise intervention, and since FitBit dataset does not include these factors, it's hard to explain why exactly the analysis of sleep time, distance, and calories did no show any  relation between them."
   ]
  },
  {
   "cell_type": "code",
   "execution_count": 27,
   "id": "31ca41eb",
   "metadata": {
    "execution": {
     "iopub.execute_input": "2023-08-02T21:25:47.046298Z",
     "iopub.status.busy": "2023-08-02T21:25:47.045897Z",
     "iopub.status.idle": "2023-08-02T21:25:47.666162Z",
     "shell.execute_reply": "2023-08-02T21:25:47.665029Z"
    },
    "papermill": {
     "duration": 0.63943,
     "end_time": "2023-08-02T21:25:47.668481",
     "exception": false,
     "start_time": "2023-08-02T21:25:47.029051",
     "status": "completed"
    },
    "tags": []
   },
   "outputs": [
    {
     "data": {
      "image/png": "[encoded data removed]",
      "text/plain": [
       "<Figure size 2000x600 with 1 Axes>"
      ]
     },
     "metadata": {},
     "output_type": "display_data"
    }
   ],
   "source": [
    "# Total Steps Per Day\n",
    "FitBit['TotalSteps'].index = FitBit['ActivityDate']\n",
    "totalStepsByDate = FitBit['TotalSteps'].groupby('ActivityDate').sum()\n",
    "ax = totalStepsByDate.plot(kind=\"bar\", x=\"ActivityDate\",y=\"TotalSteps\", color=\"lightseagreen\", label=\"TotalSteps Per day\", figsize=(20,6))\n",
    "ax.set_xticklabels(totalStepsByDate.index.date)\n",
    "ax.set_xlabel(\"Dates\")\n",
    "ax.set_ylabel(\"Total Steps\")\n",
    "plt.legend(loc='best')\n",
    "plt.show()"
   ]
  },
  {
   "cell_type": "markdown",
   "id": "7d565c3d",
   "metadata": {
    "papermill": {
     "duration": 0.015753,
     "end_time": "2023-08-02T21:25:47.700361",
     "exception": false,
     "start_time": "2023-08-02T21:25:47.684608",
     "status": "completed"
    },
    "tags": []
   },
   "source": [
    "**Among the top 5 active days, there are 3 Saturdays..makes sense, people have more time to exercise on weekends.**\n",
    "\n",
    "The app can help the consumer planning the weekend ahead by suggesting one\\all of the following:\n",
    "- a special diet for the weekend, taking into consideration the patient's state of health, gender, and age if possible.\n",
    "- a running route for each consumer based on his\\her location and consumer's choice of the distance he's intending to travel.\n",
    "- different routes to the consumer to add a bit of variety to the experince, hence allowing the consumer a chance to explore and to have fun while exercising.\n",
    "- turn-by-turn navigation for consumers.\n",
    "\n",
    "**Note: The app should grant the consumer the possibility of selecting other day to make plans for the walking trips other than weekends or days the consumer is usually active in.**"
   ]
  },
  {
   "cell_type": "markdown",
   "id": "5e74521b",
   "metadata": {
    "papermill": {
     "duration": 0.015711,
     "end_time": "2023-08-02T21:25:47.732001",
     "exception": false,
     "start_time": "2023-08-02T21:25:47.716290",
     "status": "completed"
    },
    "tags": []
   },
   "source": [
    "Let's dig deeper into steps data and try to extract patterns for consumer activity if any."
   ]
  },
  {
   "cell_type": "code",
   "execution_count": 28,
   "id": "a9372b0f",
   "metadata": {
    "execution": {
     "iopub.execute_input": "2023-08-02T21:25:47.766271Z",
     "iopub.status.busy": "2023-08-02T21:25:47.765455Z",
     "iopub.status.idle": "2023-08-02T21:25:47.775804Z",
     "shell.execute_reply": "2023-08-02T21:25:47.774814Z"
    },
    "papermill": {
     "duration": 0.030046,
     "end_time": "2023-08-02T21:25:47.777917",
     "exception": false,
     "start_time": "2023-08-02T21:25:47.747871",
     "status": "completed"
    },
    "tags": []
   },
   "outputs": [
    {
     "data": {
      "text/html": [
       "<div>\n",
       "<style scoped>\n",
       "    .dataframe tbody tr th:only-of-type {\n",
       "        vertical-align: middle;\n",
       "    }\n",
       "\n",
       "    .dataframe tbody tr th {\n",
       "        vertical-align: top;\n",
       "    }\n",
       "\n",
       "    .dataframe thead th {\n",
       "        text-align: right;\n",
       "    }\n",
       "</style>\n",
       "<table border=\"1\" class=\"dataframe\">\n",
       "  <thead>\n",
       "    <tr style=\"text-align: right;\">\n",
       "      <th></th>\n",
       "      <th>Id</th>\n",
       "      <th>ActivityHour</th>\n",
       "      <th>StepTotal</th>\n",
       "    </tr>\n",
       "  </thead>\n",
       "  <tbody>\n",
       "    <tr>\n",
       "      <th>0</th>\n",
       "      <td>1503960366</td>\n",
       "      <td>4/12/2016 12:00:00 AM</td>\n",
       "      <td>373</td>\n",
       "    </tr>\n",
       "    <tr>\n",
       "      <th>1</th>\n",
       "      <td>1503960366</td>\n",
       "      <td>4/12/2016 1:00:00 AM</td>\n",
       "      <td>160</td>\n",
       "    </tr>\n",
       "    <tr>\n",
       "      <th>2</th>\n",
       "      <td>1503960366</td>\n",
       "      <td>4/12/2016 2:00:00 AM</td>\n",
       "      <td>151</td>\n",
       "    </tr>\n",
       "    <tr>\n",
       "      <th>3</th>\n",
       "      <td>1503960366</td>\n",
       "      <td>4/12/2016 3:00:00 AM</td>\n",
       "      <td>0</td>\n",
       "    </tr>\n",
       "    <tr>\n",
       "      <th>4</th>\n",
       "      <td>1503960366</td>\n",
       "      <td>4/12/2016 4:00:00 AM</td>\n",
       "      <td>0</td>\n",
       "    </tr>\n",
       "  </tbody>\n",
       "</table>\n",
       "</div>"
      ],
      "text/plain": [
       "           Id           ActivityHour  StepTotal\n",
       "0  1503960366  4/12/2016 12:00:00 AM        373\n",
       "1  1503960366   4/12/2016 1:00:00 AM        160\n",
       "2  1503960366   4/12/2016 2:00:00 AM        151\n",
       "3  1503960366   4/12/2016 3:00:00 AM          0\n",
       "4  1503960366   4/12/2016 4:00:00 AM          0"
      ]
     },
     "execution_count": 28,
     "metadata": {},
     "output_type": "execute_result"
    }
   ],
   "source": [
    "hourly_steps.head()"
   ]
  },
  {
   "cell_type": "code",
   "execution_count": 29,
   "id": "25ac187a",
   "metadata": {
    "execution": {
     "iopub.execute_input": "2023-08-02T21:25:47.812327Z",
     "iopub.status.busy": "2023-08-02T21:25:47.811548Z",
     "iopub.status.idle": "2023-08-02T21:25:47.818056Z",
     "shell.execute_reply": "2023-08-02T21:25:47.817074Z"
    },
    "papermill": {
     "duration": 0.025766,
     "end_time": "2023-08-02T21:25:47.820003",
     "exception": false,
     "start_time": "2023-08-02T21:25:47.794237",
     "status": "completed"
    },
    "tags": []
   },
   "outputs": [
    {
     "data": {
      "text/plain": [
       "(22099, 3)"
      ]
     },
     "execution_count": 29,
     "metadata": {},
     "output_type": "execute_result"
    }
   ],
   "source": [
    "hourly_steps.shape"
   ]
  },
  {
   "cell_type": "code",
   "execution_count": 30,
   "id": "b5a0c058",
   "metadata": {
    "execution": {
     "iopub.execute_input": "2023-08-02T21:25:47.854786Z",
     "iopub.status.busy": "2023-08-02T21:25:47.853986Z",
     "iopub.status.idle": "2023-08-02T21:25:50.745642Z",
     "shell.execute_reply": "2023-08-02T21:25:50.744786Z"
    },
    "papermill": {
     "duration": 2.911534,
     "end_time": "2023-08-02T21:25:50.747992",
     "exception": false,
     "start_time": "2023-08-02T21:25:47.836458",
     "status": "completed"
    },
    "tags": []
   },
   "outputs": [
    {
     "data": {
      "image/png": "[encoded data removed]",
      "text/plain": [
       "<Figure size 2000x600 with 1 Axes>"
      ]
     },
     "metadata": {},
     "output_type": "display_data"
    }
   ],
   "source": [
    "#group by hour and see what active hours are per consumer:\n",
    "hourly_steps['ActivityHour'] = pd.to_datetime(hourly_steps['ActivityHour'])\n",
    "ActiveHours = hourly_steps.groupby(hourly_steps['ActivityHour'].dt.time)['StepTotal'].sum()\n",
    "\n",
    "ax = ActiveHours.plot(kind=\"bar\", x=\"ActivityHour\",y=\"StepTotal\", color=\"lightseagreen\", label=\"Consumers Active Hours\", figsize=(20,6))\n",
    "ax.set_xlabel(\"Hours\")\n",
    "ax.set_ylabel(\"Total Steps\")\n",
    "plt.legend(loc='best')\n",
    "plt.show()"
   ]
  },
  {
   "cell_type": "markdown",
   "id": "198595f8",
   "metadata": {
    "papermill": {
     "duration": 0.016767,
     "end_time": "2023-08-02T21:25:50.782636",
     "exception": false,
     "start_time": "2023-08-02T21:25:50.765869",
     "status": "completed"
    },
    "tags": []
   },
   "source": [
    "**Top 5 active Hours: 18, 19, 12, 14 and 13 respectively.**\n",
    "\n",
    "**It will be a good time for the app to send whatever notifications or promotion for the consumers.**"
   ]
  },
  {
   "cell_type": "code",
   "execution_count": 31,
   "id": "110660a8",
   "metadata": {
    "execution": {
     "iopub.execute_input": "2023-08-02T21:25:50.819442Z",
     "iopub.status.busy": "2023-08-02T21:25:50.818726Z",
     "iopub.status.idle": "2023-08-02T21:25:50.825198Z",
     "shell.execute_reply": "2023-08-02T21:25:50.824097Z"
    },
    "papermill": {
     "duration": 0.027533,
     "end_time": "2023-08-02T21:25:50.827317",
     "exception": false,
     "start_time": "2023-08-02T21:25:50.799784",
     "status": "completed"
    },
    "tags": []
   },
   "outputs": [
    {
     "data": {
      "text/plain": [
       "Index(['User', 'ActivityDate', 'TotalSteps', 'TotalDistance',\n",
       "       'VeryActiveDistance', 'ModeratelyActiveDistance', 'LightActiveDistance',\n",
       "       'VeryActiveMinutes', 'FairlyActiveMinutes', 'LightlyActiveMinutes',\n",
       "       'SedentaryMinutes', 'Calories', 'TotalSleepRecords',\n",
       "       'TotalMinutesAsleep', 'TotalTimeInBed'],\n",
       "      dtype='object')"
      ]
     },
     "execution_count": 31,
     "metadata": {},
     "output_type": "execute_result"
    }
   ],
   "source": [
    "FitBit.columns"
   ]
  },
  {
   "cell_type": "code",
   "execution_count": 32,
   "id": "b3e0dae5",
   "metadata": {
    "execution": {
     "iopub.execute_input": "2023-08-02T21:25:50.863432Z",
     "iopub.status.busy": "2023-08-02T21:25:50.863018Z",
     "iopub.status.idle": "2023-08-02T21:25:50.877100Z",
     "shell.execute_reply": "2023-08-02T21:25:50.876053Z"
    },
    "papermill": {
     "duration": 0.034885,
     "end_time": "2023-08-02T21:25:50.879280",
     "exception": false,
     "start_time": "2023-08-02T21:25:50.844395",
     "status": "completed"
    },
    "tags": []
   },
   "outputs": [
    {
     "data": {
      "text/html": [
       "<div>\n",
       "<style scoped>\n",
       "    .dataframe tbody tr th:only-of-type {\n",
       "        vertical-align: middle;\n",
       "    }\n",
       "\n",
       "    .dataframe tbody tr th {\n",
       "        vertical-align: top;\n",
       "    }\n",
       "\n",
       "    .dataframe thead th {\n",
       "        text-align: right;\n",
       "    }\n",
       "</style>\n",
       "<table border=\"1\" class=\"dataframe\">\n",
       "  <thead>\n",
       "    <tr style=\"text-align: right;\">\n",
       "      <th></th>\n",
       "      <th>User</th>\n",
       "      <th>VeryActiveDistance</th>\n",
       "      <th>ModeratelyActiveDistance</th>\n",
       "      <th>LightActiveDistance</th>\n",
       "    </tr>\n",
       "  </thead>\n",
       "  <tbody>\n",
       "    <tr>\n",
       "      <th>0</th>\n",
       "      <td>1503960366</td>\n",
       "      <td>1.88</td>\n",
       "      <td>0.55</td>\n",
       "      <td>6.06</td>\n",
       "    </tr>\n",
       "    <tr>\n",
       "      <th>1</th>\n",
       "      <td>1503960366</td>\n",
       "      <td>1.57</td>\n",
       "      <td>0.69</td>\n",
       "      <td>4.71</td>\n",
       "    </tr>\n",
       "    <tr>\n",
       "      <th>2</th>\n",
       "      <td>1503960366</td>\n",
       "      <td>2.14</td>\n",
       "      <td>1.26</td>\n",
       "      <td>2.83</td>\n",
       "    </tr>\n",
       "    <tr>\n",
       "      <th>3</th>\n",
       "      <td>1503960366</td>\n",
       "      <td>2.71</td>\n",
       "      <td>0.41</td>\n",
       "      <td>5.04</td>\n",
       "    </tr>\n",
       "    <tr>\n",
       "      <th>4</th>\n",
       "      <td>1503960366</td>\n",
       "      <td>3.19</td>\n",
       "      <td>0.78</td>\n",
       "      <td>2.51</td>\n",
       "    </tr>\n",
       "  </tbody>\n",
       "</table>\n",
       "</div>"
      ],
      "text/plain": [
       "         User  VeryActiveDistance  ModeratelyActiveDistance  \\\n",
       "0  1503960366                1.88                      0.55   \n",
       "1  1503960366                1.57                      0.69   \n",
       "2  1503960366                2.14                      1.26   \n",
       "3  1503960366                2.71                      0.41   \n",
       "4  1503960366                3.19                      0.78   \n",
       "\n",
       "   LightActiveDistance  \n",
       "0                 6.06  \n",
       "1                 4.71  \n",
       "2                 2.83  \n",
       "3                 5.04  \n",
       "4                 2.51  "
      ]
     },
     "execution_count": 32,
     "metadata": {},
     "output_type": "execute_result"
    }
   ],
   "source": [
    "# Group Consumers by Activity Intensity (in distance)\n",
    "ActivityLevel = FitBit[['User','VeryActiveDistance','ModeratelyActiveDistance','LightActiveDistance']]\n",
    "ActivityLevel.head()"
   ]
  },
  {
   "cell_type": "code",
   "execution_count": 33,
   "id": "37d9b0a3",
   "metadata": {
    "execution": {
     "iopub.execute_input": "2023-08-02T21:25:50.915727Z",
     "iopub.status.busy": "2023-08-02T21:25:50.915306Z",
     "iopub.status.idle": "2023-08-02T21:25:50.928005Z",
     "shell.execute_reply": "2023-08-02T21:25:50.927102Z"
    },
    "papermill": {
     "duration": 0.033214,
     "end_time": "2023-08-02T21:25:50.929858",
     "exception": false,
     "start_time": "2023-08-02T21:25:50.896644",
     "status": "completed"
    },
    "tags": []
   },
   "outputs": [
    {
     "data": {
      "text/html": [
       "<div>\n",
       "<style scoped>\n",
       "    .dataframe tbody tr th:only-of-type {\n",
       "        vertical-align: middle;\n",
       "    }\n",
       "\n",
       "    .dataframe tbody tr th {\n",
       "        vertical-align: top;\n",
       "    }\n",
       "\n",
       "    .dataframe thead th {\n",
       "        text-align: right;\n",
       "    }\n",
       "</style>\n",
       "<table border=\"1\" class=\"dataframe\">\n",
       "  <thead>\n",
       "    <tr style=\"text-align: right;\">\n",
       "      <th></th>\n",
       "      <th>VeryActiveDistance</th>\n",
       "      <th>ModeratelyActiveDistance</th>\n",
       "      <th>LightActiveDistance</th>\n",
       "    </tr>\n",
       "    <tr>\n",
       "      <th>User</th>\n",
       "      <th></th>\n",
       "      <th></th>\n",
       "      <th></th>\n",
       "    </tr>\n",
       "  </thead>\n",
       "  <tbody>\n",
       "    <tr>\n",
       "      <th>1503960366</th>\n",
       "      <td>69.30</td>\n",
       "      <td>21.18</td>\n",
       "      <td>108.650001</td>\n",
       "    </tr>\n",
       "    <tr>\n",
       "      <th>1644430081</th>\n",
       "      <td>0.70</td>\n",
       "      <td>3.45</td>\n",
       "      <td>19.000000</td>\n",
       "    </tr>\n",
       "    <tr>\n",
       "      <th>1844505072</th>\n",
       "      <td>0.00</td>\n",
       "      <td>0.26</td>\n",
       "      <td>6.640000</td>\n",
       "    </tr>\n",
       "    <tr>\n",
       "      <th>1927972279</th>\n",
       "      <td>0.00</td>\n",
       "      <td>0.00</td>\n",
       "      <td>5.160000</td>\n",
       "    </tr>\n",
       "    <tr>\n",
       "      <th>2026352035</th>\n",
       "      <td>0.19</td>\n",
       "      <td>0.35</td>\n",
       "      <td>97.060000</td>\n",
       "    </tr>\n",
       "  </tbody>\n",
       "</table>\n",
       "</div>"
      ],
      "text/plain": [
       "            VeryActiveDistance  ModeratelyActiveDistance  LightActiveDistance\n",
       "User                                                                         \n",
       "1503960366               69.30                     21.18           108.650001\n",
       "1644430081                0.70                      3.45            19.000000\n",
       "1844505072                0.00                      0.26             6.640000\n",
       "1927972279                0.00                      0.00             5.160000\n",
       "2026352035                0.19                      0.35            97.060000"
      ]
     },
     "execution_count": 33,
     "metadata": {},
     "output_type": "execute_result"
    }
   ],
   "source": [
    "UserGroupsByActivity = ActivityLevel.groupby('User').sum()\n",
    "UserGroupsByActivity.head()"
   ]
  },
  {
   "cell_type": "markdown",
   "id": "68ffdf0a",
   "metadata": {
    "papermill": {
     "duration": 0.016833,
     "end_time": "2023-08-02T21:25:50.963808",
     "exception": false,
     "start_time": "2023-08-02T21:25:50.946975",
     "status": "completed"
    },
    "tags": []
   },
   "source": [
    "**It looks like most consumers prefer light level of activity. but let's make sure.."
   ]
  },
  {
   "cell_type": "code",
   "execution_count": 34,
   "id": "ae2daaec",
   "metadata": {
    "execution": {
     "iopub.execute_input": "2023-08-02T21:25:51.002105Z",
     "iopub.status.busy": "2023-08-02T21:25:51.001744Z",
     "iopub.status.idle": "2023-08-02T21:25:51.009562Z",
     "shell.execute_reply": "2023-08-02T21:25:51.007948Z"
    },
    "papermill": {
     "duration": 0.031098,
     "end_time": "2023-08-02T21:25:51.012058",
     "exception": false,
     "start_time": "2023-08-02T21:25:50.980960",
     "status": "completed"
    },
    "tags": []
   },
   "outputs": [
    {
     "name": "stdout",
     "output_type": "stream",
     "text": [
      "VeryActiveDistance           598.999999\n",
      "ModeratelyActiveDistance     309.849999\n",
      "LightActiveDistance         1572.340001\n",
      "dtype: float64\n"
     ]
    }
   ],
   "source": [
    "print(UserGroupsByActivity.sum())"
   ]
  },
  {
   "cell_type": "markdown",
   "id": "fa1f7d0c",
   "metadata": {
    "papermill": {
     "duration": 0.017303,
     "end_time": "2023-08-02T21:25:51.047196",
     "exception": false,
     "start_time": "2023-08-02T21:25:51.029893",
     "status": "completed"
    },
    "tags": []
   },
   "source": [
    "**Light level of activity is the winner..But what is the percentage of users in each activity group?**"
   ]
  },
  {
   "cell_type": "code",
   "execution_count": 35,
   "id": "85ded4fa",
   "metadata": {
    "execution": {
     "iopub.execute_input": "2023-08-02T21:25:51.084471Z",
     "iopub.status.busy": "2023-08-02T21:25:51.083376Z",
     "iopub.status.idle": "2023-08-02T21:25:51.354724Z",
     "shell.execute_reply": "2023-08-02T21:25:51.353433Z"
    },
    "papermill": {
     "duration": 0.292655,
     "end_time": "2023-08-02T21:25:51.357112",
     "exception": false,
     "start_time": "2023-08-02T21:25:51.064457",
     "status": "completed"
    },
    "tags": []
   },
   "outputs": [
    {
     "name": "stdout",
     "output_type": "stream",
     "text": [
      "Very-intense activity  % =  8.333333333333332\n",
      "Moderate-intense activity  % =  0.0\n",
      "Light-intense activity  % =  91.66666666666666\n"
     ]
    },
    {
     "data": {
      "image/png": "[encoded data removed]",
      "text/plain": [
       "<Figure size 600x400 with 1 Axes>"
      ]
     },
     "metadata": {},
     "output_type": "display_data"
    }
   ],
   "source": [
    "df = UserGroupsByActivity\n",
    "rows = df.shape[0]\n",
    "sumOfVeryActiveDistance = 0\n",
    "sumOfModeratelyActiveDistance = 0\n",
    "sumOfLightActiveDistance = 0\n",
    "\n",
    "for index, value in df.iterrows():    \n",
    "    maxi = max(list(value)) \n",
    "    unique_index = pd.Index(list(value))\n",
    "    loc = unique_index.get_loc(maxi)\n",
    "    if (loc == 0): sumOfVeryActiveDistance +=1\n",
    "    if (loc == 1): sumOfModeratelyActiveDistance +=1\n",
    "    if (loc == 2): sumOfLightActiveDistance +=1\n",
    "    # print (list(value))\n",
    "    # print('max_val= ' , maxi , ' ==>  max_index = ' , loc )   \n",
    "    # print()   \n",
    " \n",
    "print('Very-intense activity  % = ' , sumOfVeryActiveDistance / rows * 100)\n",
    "print('Moderate-intense activity  % = ' , sumOfModeratelyActiveDistance / rows * 100)\n",
    "print('Light-intense activity  % = ' , sumOfLightActiveDistance / rows * 100)\n",
    "mylist = [sumOfVeryActiveDistance, sumOfModeratelyActiveDistance, sumOfLightActiveDistance]\n",
    "UserPercdf = pd.DataFrame([mylist], columns = ['Very-intense Act','Moderate-intense Act','Light-intense Act'])\n",
    "ax = UserPercdf.plot(kind=\"bar\",  title=\"Distribution of users by intensity level\", figsize=(6,4))\n",
    "ax.set_xlabel(\"Levels Of Intensity (Regarding Distance)\")\n",
    "ax.set_ylabel(\"Users Count\")\n",
    "plt.legend(loc='best')\n",
    "plt.show()"
   ]
  },
  {
   "cell_type": "markdown",
   "id": "c7243e8c",
   "metadata": {
    "papermill": {
     "duration": 0.018119,
     "end_time": "2023-08-02T21:25:51.394035",
     "exception": false,
     "start_time": "2023-08-02T21:25:51.375916",
     "status": "completed"
    },
    "tags": []
   },
   "source": [
    "**Majority of consumers tend to do light-intense activity.**"
   ]
  },
  {
   "cell_type": "markdown",
   "id": "d7f894ea",
   "metadata": {
    "papermill": {
     "duration": 0.017645,
     "end_time": "2023-08-02T21:25:51.430185",
     "exception": false,
     "start_time": "2023-08-02T21:25:51.412540",
     "status": "completed"
    },
    "tags": []
   },
   "source": [
    "That's all I can think for the little data I have for FitBit. "
   ]
  },
  {
   "cell_type": "markdown",
   "id": "619a0c94",
   "metadata": {
    "papermill": {
     "duration": 0.017953,
     "end_time": "2023-08-02T21:25:51.466895",
     "exception": false,
     "start_time": "2023-08-02T21:25:51.448942",
     "status": "completed"
    },
    "tags": []
   },
   "source": [
    "### Summary of Analysis and Findings of FitBit dataset\n",
    "- **Heart_rate and weight data is too small to analyse** and provide recommendation to Bellabeat as requested.\n",
    "- The dataset I worked with had **Only 24 consumer** because I inner joined daily_activity and daily_sleep data, and by so I lost data for 9 consumers.\n",
    "- I checked the minuteSleep_merged file in a try to see if I can get more observations than just 24 consumer, but I got the same result, only 24 unique consumer.\n",
    "- I knew that I would have to look for additional data sources, but I decided to **start first with the Fitbit dataset since it's recommended by Urska; main stakeholder**. \n",
    "\n",
    "#### **Findings:**\n",
    "* The **more** you **walk**, the **more calories** you **burn**!\n",
    "* The total sleep time has no effect on burned calories amount, nor on the distance one can travel, hence it's reasonable enough to conclude that **sleep has no effect on the level of consumer's activity**. Although many studies and common sense suggest that the relation between (sleep, activity level) is positively strong, many studies found no such relation between them, and one even reported a negative impact of exercise on sleep. View this systematic review to find more about this subject: https://www.ncbi.nlm.nih.gov/pmc/articles/PMC5385214/\n",
    "* Among the **top 5 active days, there are 3 Saturdays**. Makes sense, people have more time to exercise on **weekends**.\n",
    "* The **top 5 hours are all after 12 pm: 18, 19, 12, 14 and 13** respectively.\n",
    "* most consumers prefer light level of activity:\n",
    "    - Very-intense activity  % =  8.33\n",
    "    - Moderate-intense activity  % =  0.0\n",
    "    - Light-intense activity  % =  91.66\n",
    "\n",
    "#### **Recommendations:**\n",
    "- Active days and hours represent a good chance for the app to send notifications and promotion for the consumers.\n",
    "- The app can help the consumer planning the weekend ahead by suggesting one\\all of the following:\n",
    "    * a special diet for the weekend, taking into consideration the patient's state of health, gender, and age if possible.\n",
    "    * a running route for each consumer based on his\\her location and consumer's choice of the distance he's intending to travel.\n",
    "    * different routes to the consumer to add a bit of variety to the experince, hence allowing the consumer a chance to explore and to have fun while exercising.\n",
    "    * turn-by-turn navigation for consumers.\n",
    "- The app should grant the consumer the possibility of selecting other day to make plans for the walking trips other than weekends or days the consumer is usually active in.\n",
    "- Since majority of consumers tend to do light-intense activity, the app can suggest the following:\n",
    "    * gentle exercises to do during the day.\n",
    "    * mediation techniques.\n",
    "    * relaxing music tracks that goes along with the rhythm of the consumers' movement\n",
    "- Unfortunately, I was not able to find a ROCCC data (Quick reminder: ROCCC stands for Reliable, Original, Comprehensive, Current, and Cited), so my advice for BellaBeat is to try to collect data from their own consumers either through Bellbeat smart devices or via surveys and to try to make the data that they collect more detailed regarding consumers information such as age, gender, health issues and other."
   ]
  }
 ],
 "metadata": {
  "kernelspec": {
   "display_name": "Python 3",
   "language": "python",
   "name": "python3"
  },
  "language_info": {
   "codemirror_mode": {
    "name": "ipython",
    "version": 3
   },
   "file_extension": ".py",
   "mimetype": "text/x-python",
   "name": "python",
   "nbconvert_exporter": "python",
   "pygments_lexer": "ipython3",
   "version": "3.10.12"
  },
  "papermill": {
   "default_parameters": {},
   "duration": 20.386271,
   "end_time": "2023-08-02T21:25:52.407611",
   "environment_variables": {},
   "exception": null,
   "input_path": "__notebook__.ipynb",
   "output_path": "__notebook__.ipynb",
   "parameters": {},
   "start_time": "2023-08-02T21:25:32.021340",
   "version": "2.4.0"
  }
 },
 "nbformat": 4,
 "nbformat_minor": 5
}
